{
 "cells": [
  {
   "cell_type": "code",
   "execution_count": 24,
   "metadata": {},
   "outputs": [],
   "source": [
    "import os\n",
    "import netCDF4\n",
    "import numpy as np\n",
    "from datetime import datetime as dt\n",
    "import matplotlib.pyplot as plt\n"
   ]
  },
  {
   "cell_type": "code",
   "execution_count": 43,
   "metadata": {},
   "outputs": [],
   "source": [
    "input_path  = '/g/data/kl02/jss548/bonn-project-data/radolan_nc'\n",
    "output_path = '/g/data/kl02/jss548/bonn-project-data/radolan_png'\n",
    "bad         = np.nan\n",
    "min_value   = -32.5\n",
    "x_start     = 146 #values in x dim less this this aren't present\n",
    "\n",
    "input_fn    = 'RX-2017-05-30.nc'"
   ]
  },
  {
   "cell_type": "code",
   "execution_count": 44,
   "metadata": {},
   "outputs": [],
   "source": [
    "#read nc file\n",
    "input_ffn = os.path.join(input_path, input_fn)\n",
    "with netCDF4.Dataset(input_ffn) as ncid:\n",
    "    refl_data = np.squeeze(ncid['rx'][:, :, :]).filled(min_value)\n",
    "    time_list = np.squeeze(ncid['time'][:])\n",
    "    time_units = ncid.variables['time'].units"
   ]
  },
  {
   "cell_type": "code",
   "execution_count": 45,
   "metadata": {},
   "outputs": [
    {
     "name": "stdout",
     "output_type": "stream",
     "text": [
      "finished\n"
     ]
    }
   ],
   "source": [
    "new_run = True\n",
    "count = 0\n",
    "#export to png\n",
    "for i, time in enumerate(time_list):\n",
    "\n",
    "    #extract refl data\n",
    "    refl_img = refl_data[i, :, :]\n",
    "    #crop to valid data\n",
    "    refl_img_crop = refl_img[:, x_start:]\n",
    "    \n",
    "#     #accumualte\n",
    "#     if new_run:\n",
    "#         refl_acc = refl_img_crop\n",
    "#         new_run = False\n",
    "#     else:\n",
    "#         refl_acc = np.amax(np.stack([refl_acc, refl_img_crop], 2), 2)\n",
    "        \n",
    "#     count += 1\n",
    "    \n",
    "    #convert time\n",
    "    time_dt = netCDF4.num2date(time, time_units)\n",
    "    #build image ffn\n",
    "    image_fn = 'radlon_' + time_dt.strftime('%Y%m%d_%H%M') + '.png'\n",
    "    image_path = '/'.join([output_path, time_dt.strftime('%Y%m%d')])\n",
    "    #make path as needed\n",
    "    if not os.path.isdir(image_path):\n",
    "        os.mkdir(image_path)\n",
    "    #build ffn\n",
    "    image_ffn = '/'.join([image_path, image_fn])\n",
    "    #export to file\n",
    "    plt.imsave(image_ffn, refl_img_crop)\n",
    "    \n",
    "#     if count == 3:\n",
    "#         #build image ffn\n",
    "#         image_fn = 'radlon_' + time_dt.strftime('%Y%m%d_%H%M') + '_acc.png'\n",
    "#         image_ffn = '/'.join([output_path, image_fn])\n",
    "#         #export to file\n",
    "#         plt.imsave(image_ffn, refl_acc, cmap='viridis')\n",
    "#         count = 0\n",
    "#         new_run = True\n",
    "print('finished')"
   ]
  },
  {
   "cell_type": "code",
   "execution_count": null,
   "metadata": {},
   "outputs": [],
   "source": []
  }
 ],
 "metadata": {
  "kernelspec": {
   "display_name": "Python 3",
   "language": "python",
   "name": "python3"
  },
  "language_info": {
   "codemirror_mode": {
    "name": "ipython",
    "version": 3
   },
   "file_extension": ".py",
   "mimetype": "text/x-python",
   "name": "python",
   "nbconvert_exporter": "python",
   "pygments_lexer": "ipython3",
   "version": "3.6.7"
  }
 },
 "nbformat": 4,
 "nbformat_minor": 2
}
