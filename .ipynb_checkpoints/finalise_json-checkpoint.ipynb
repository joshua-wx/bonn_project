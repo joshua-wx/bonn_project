{
 "cells": [
  {
   "cell_type": "code",
   "execution_count": 20,
   "metadata": {},
   "outputs": [],
   "source": [
    "#adds region boundaries to json annotation files\n",
    "#copies image files"
   ]
  },
  {
   "cell_type": "code",
   "execution_count": 14,
   "metadata": {},
   "outputs": [],
   "source": [
    "import json\n",
    "import os\n",
    "import glob\n",
    "import numpy as np"
   ]
  },
  {
   "cell_type": "code",
   "execution_count": 15,
   "metadata": {},
   "outputs": [],
   "source": [
    "json_in_path  = '/g/data1a/kl02/jss548/hail-research/HailPixel/subsets/roi'\n",
    "json_out_path = '/g/data1a/kl02/jss548/hail-research/HailPixel/subsets/roi_final'\n",
    "img_in_path   = '/g/data1a/kl02/jss548/hail-research/HailPixel/subsets/images'\n",
    "img_out_path  = '/g/data1a/kl02/jss548/hail-research/HailPixel/subsets/images_final'"
   ]
  },
  {
   "cell_type": "code",
   "execution_count": 17,
   "metadata": {},
   "outputs": [
    {
     "name": "stdout",
     "output_type": "stream",
     "text": [
      "finished\n"
     ]
    }
   ],
   "source": [
    "buffer_px    = 50\n",
    "master_json = {}\n",
    "region_json = {\"shape_attributes\":{\"name\":\"rect\",\"x\":50,\"y\":50,\"width\":500,\"height\":500},\"region_attributes\":{}}\n",
    "\n",
    "json_ffn_list = glob.glob(json_in_path + '/*.json')\n",
    "\n",
    "for json_ffn in json_ffn_list:\n",
    "    #read json file \n",
    "    with open(json_ffn) as json_fh:  \n",
    "        data = json.load(json_fh)\n",
    "    #extract json header name\n",
    "    json_header = next(iter(data))\n",
    "    #append json element\n",
    "    data[json_header]['regions'].append(region_json)\n",
    "    #add to master\n",
    "    master_json[json_header] = data[json_header]\n",
    "#     #copy image file\n",
    "#     image_fn = final_json_fn[0:4] + '.png'\n",
    "#     cmd = 'cp ' + img_in_path + '/' + image_fn + ' ' + img_out_path + '/' + image_fn \n",
    "#     os.system(cmd)\n",
    "\n",
    "#save json back to file\n",
    "final_json_fn  = 'hailpixel_20181126_final.json'\n",
    "final_json_ffn = json_out_path + '/' + final_json_fn\n",
    "with open(final_json_ffn, 'w') as outfile:\n",
    "    json.dump(master_json, outfile)\n",
    "\n",
    "print('finished')\n",
    "        \n",
    "   \n",
    "    \n"
   ]
  },
  {
   "cell_type": "code",
   "execution_count": null,
   "metadata": {},
   "outputs": [],
   "source": []
  }
 ],
 "metadata": {
  "kernelspec": {
   "display_name": "Python 3",
   "language": "python",
   "name": "python3"
  },
  "language_info": {
   "codemirror_mode": {
    "name": "ipython",
    "version": 3
   },
   "file_extension": ".py",
   "mimetype": "text/x-python",
   "name": "python",
   "nbconvert_exporter": "python",
   "pygments_lexer": "ipython3",
   "version": "3.6.7"
  }
 },
 "nbformat": 4,
 "nbformat_minor": 2
}
