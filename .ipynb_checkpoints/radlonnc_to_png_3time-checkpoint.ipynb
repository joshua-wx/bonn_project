{
 "cells": [
  {
   "cell_type": "code",
   "execution_count": 1,
   "metadata": {},
   "outputs": [],
   "source": [
    "import os\n",
    "import netCDF4\n",
    "import numpy as np\n",
    "from datetime import datetime as dt\n",
    "import matplotlib.pyplot as plt\n"
   ]
  },
  {
   "cell_type": "code",
   "execution_count": 2,
   "metadata": {},
   "outputs": [],
   "source": [
    "input_path  = '/g/data/kl02/jss548/bonn-project-data/radolan_nc'\n",
    "output_path = '/g/data/kl02/jss548/bonn-project-data/radolan_png_3time'\n",
    "bad         = np.nan\n",
    "min_refl    = -32.5\n",
    "max_refl    = 80\n",
    "cmap_max    = 255\n",
    "x_start     = 146 #values in x dim less this this aren't present\n",
    "\n",
    "input_fn    = 'RX-2017-05-30.nc'"
   ]
  },
  {
   "cell_type": "code",
   "execution_count": null,
   "metadata": {},
   "outputs": [],
   "source": [
    "#read nc file\n",
    "input_ffn = os.path.join(input_path, input_fn)\n",
    "with netCDF4.Dataset(input_ffn) as ncid:\n",
    "    refl_data = np.squeeze(ncid['rx'][:, :, :]).filled(min_refl)\n",
    "    time_list = np.squeeze(ncid['time'][:])\n",
    "    time_units = ncid.variables['time'].units"
   ]
  },
  {
   "cell_type": "code",
   "execution_count": null,
   "metadata": {},
   "outputs": [],
   "source": [
    "def write_img(img_array, time_dt):\n",
    "    #make path as needed\n",
    "    image_path = '/'.join([output_path, time_dt.strftime('%Y%m%d')])\n",
    "    if not os.path.isdir(image_path):\n",
    "        os.mkdir(image_path)\n",
    "    #build image ffn\n",
    "    image_fn = 'radlon_' + time_dt.strftime('%Y%m%d_%H%M') + '_3time.png'\n",
    "    image_ffn = '/'.join([output_path, image_fn])\n",
    "    #offset array using min_value\n",
    "    img_array = img_array + np.abs(min_refl)\n",
    "    #scale by abs maximum\n",
    "    abs_max = max_refl + np.abs(min_refl)\n",
    "    img_array = (img_array/abs_max)\n",
    "    \n",
    "    \n",
    "    #export to file\n",
    "    plt.imsave(image_ffn, img_array)\n",
    "    count = 0\n",
    "    new_run = True"
   ]
  },
  {
   "cell_type": "code",
   "execution_count": null,
   "metadata": {},
   "outputs": [],
   "source": [
    "#export to png\n",
    "for i, time in enumerate(time_list):\n",
    "    \n",
    "    #extract refl data\n",
    "    refl_img = refl_data[i, :, :]\n",
    "    #crop to valid data\n",
    "    refl_img_crop = refl_img[:, x_start:]\n",
    "    \n",
    "    #stack data\n",
    "    if i==0:\n",
    "        #init step1\n",
    "        step1_img = refl_img\n",
    "    elif i==1:\n",
    "        #init step2\n",
    "        step2_img = refl_img\n",
    "    else:\n",
    "        step3_img  = refl_img\n",
    "        #stack steps\n",
    "        refl_array = np.stack([step3_img, step2_img, step1_img], 2)\n",
    "        #write to image file\n",
    "        time_dt    = netCDF4.num2date(time, time_units)\n",
    "        write_img(refl_array, time_dt)\n",
    "        #update step1 and step2\n",
    "        step2_img  = step3_img\n",
    "        step1_img  = step2_img\n",
    "\n",
    "print('finished')"
   ]
  },
  {
   "cell_type": "code",
   "execution_count": null,
   "metadata": {},
   "outputs": [],
   "source": []
  }
 ],
 "metadata": {
  "kernelspec": {
   "display_name": "Python 3",
   "language": "python",
   "name": "python3"
  },
  "language_info": {
   "codemirror_mode": {
    "name": "ipython",
    "version": 3
   },
   "file_extension": ".py",
   "mimetype": "text/x-python",
   "name": "python",
   "nbconvert_exporter": "python",
   "pygments_lexer": "ipython3",
   "version": "3.6.7"
  }
 },
 "nbformat": 4,
 "nbformat_minor": 2
}
