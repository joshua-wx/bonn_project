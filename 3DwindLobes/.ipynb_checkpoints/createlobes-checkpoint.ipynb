{
 "cells": [
  {
   "cell_type": "code",
   "execution_count": 1,
   "metadata": {},
   "outputs": [],
   "source": [
    "import os\n",
    "import netCDF4\n",
    "import numpy as np\n",
    "from datetime import datetime as dt\n",
    "import matplotlib.pyplot as plt"
   ]
  },
  {
   "cell_type": "code",
   "execution_count": 4,
   "metadata": {},
   "outputs": [],
   "source": [
    "grid_ffn  = '/g/data/kl02/jss548/bonn-project-data/radolan_data/radolan_nc/RX-2017-05-30.nc'\n",
    "site_fn   = 'dwd_siteinfo_current.txt'"
   ]
  },
  {
   "cell_type": "code",
   "execution_count": 37,
   "metadata": {},
   "outputs": [
    {
     "name": "stderr",
     "output_type": "stream",
     "text": [
      "/g/data/en0/jss548/miniconda3/envs/radar/lib/python3.6/site-packages/ipykernel_launcher.py:6: UserWarning: WARNING: valid_min not used since it\n",
      "cannot be safely cast to variable data type\n",
      "  \n",
      "/g/data/en0/jss548/miniconda3/envs/radar/lib/python3.6/site-packages/ipykernel_launcher.py:6: UserWarning: WARNING: valid_max not used since it\n",
      "cannot be safely cast to variable data type\n",
      "  \n",
      "/g/data/en0/jss548/miniconda3/envs/radar/lib/python3.6/site-packages/ipykernel_launcher.py:7: UserWarning: WARNING: valid_min not used since it\n",
      "cannot be safely cast to variable data type\n",
      "  import sys\n",
      "/g/data/en0/jss548/miniconda3/envs/radar/lib/python3.6/site-packages/ipykernel_launcher.py:7: UserWarning: WARNING: valid_max not used since it\n",
      "cannot be safely cast to variable data type\n",
      "  import sys\n"
     ]
    }
   ],
   "source": [
    "#read nc file\n",
    "with netCDF4.Dataset(grid_ffn) as ncid:\n",
    "    lat_grid = ncid['lat'][:, :]\n",
    "    lon_grid = ncid['lon'][:, :]\n",
    "    x_vec    = ncid['x'][:]\n",
    "    y_vec    = ncid['y'][:]"
   ]
  }
 ],
 "metadata": {
  "kernelspec": {
   "display_name": "Python 3",
   "language": "python",
   "name": "python3"
  },
  "language_info": {
   "codemirror_mode": {
    "name": "ipython",
    "version": 3
   },
   "file_extension": ".py",
   "mimetype": "text/x-python",
   "name": "python",
   "nbconvert_exporter": "python",
   "pygments_lexer": "ipython3",
   "version": "3.6.7"
  }
 },
 "nbformat": 4,
 "nbformat_minor": 2
}
