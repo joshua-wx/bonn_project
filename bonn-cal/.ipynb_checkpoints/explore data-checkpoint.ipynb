{
 "cells": [
  {
   "cell_type": "code",
   "execution_count": 7,
   "metadata": {},
   "outputs": [
    {
     "ename": "ModuleNotFoundError",
     "evalue": "No module named 'msgr'",
     "output_type": "error",
     "traceback": [
      "\u001b[0;31m---------------------------------------------------------------------------\u001b[0m",
      "\u001b[0;31mModuleNotFoundError\u001b[0m                       Traceback (most recent call last)",
      "\u001b[0;32m<ipython-input-7-1c8b668c7d68>\u001b[0m in \u001b[0;36m<module>\u001b[0;34m()\u001b[0m\n\u001b[1;32m      2\u001b[0m \u001b[0;32mimport\u001b[0m \u001b[0mnumpy\u001b[0m \u001b[0;32mas\u001b[0m \u001b[0mnp\u001b[0m\u001b[0;34m\u001b[0m\u001b[0m\n\u001b[1;32m      3\u001b[0m \u001b[0;34m\u001b[0m\u001b[0m\n\u001b[0;32m----> 4\u001b[0;31m \u001b[0;32mimport\u001b[0m \u001b[0mmsgr\u001b[0m\u001b[0;34m\u001b[0m\u001b[0m\n\u001b[0m",
      "\u001b[0;31mModuleNotFoundError\u001b[0m: No module named 'msgr'"
     ]
    }
   ],
   "source": [
    "import pyart\n",
    "import numpy as np\n",
    "\n",
    "import msgr"
   ]
  },
  {
   "cell_type": "code",
   "execution_count": 6,
   "metadata": {},
   "outputs": [
    {
     "data": {
      "text/plain": [
       "array([10.997314 ,  2.4005127,  1.4996338], dtype=float32)"
      ]
     },
     "execution_count": 6,
     "metadata": {},
     "output_type": "execute_result"
    }
   ],
   "source": [
    "radar_fn = '/home/meso/dev/bonn-radar-cal/boxpol_20141007_0235.h5'\n",
    "\n",
    "radar = pyart.aux_io.read_odim_h5(radar_fn)\n",
    "\n",
    "radar.fixed_angle['data']"
   ]
  },
  {
   "cell_type": "code",
   "execution_count": null,
   "metadata": {},
   "outputs": [],
   "source": [
    "\n",
    "f = wrl.util.get_wradlib_data_file(mvol_fn)\n",
    "data, metadata = wrl.io.read_gamic_hdf5(f)\n",
    "\n",
    "sweepname_list   = []\n",
    "bin_count_list   = []\n",
    "range_start_list = []\n",
    "range_step_list  = []\n",
    "\n",
    "for sweep_name in data.keys():\n",
    "    sweepname_list.append(sweep_name)\n",
    "    bin_count_list.append(metadata[sweep_name]['bin_count'])\n",
    "    range_start_list.append(metadata[sweep_name]['range_start'])\n",
    "    range_step_list.append(metadata[sweep_name]['range_step'])\n",
    "    \n",
    "print(bin_count_list)\n",
    "print(range_start_list)\n",
    "print(range_step_list)"
   ]
  }
 ],
 "metadata": {
  "kernelspec": {
   "display_name": "Python 3",
   "language": "python",
   "name": "python3"
  },
  "language_info": {
   "codemirror_mode": {
    "name": "ipython",
    "version": 3
   },
   "file_extension": ".py",
   "mimetype": "text/x-python",
   "name": "python",
   "nbconvert_exporter": "python",
   "pygments_lexer": "ipython3",
   "version": "3.6.4"
  }
 },
 "nbformat": 4,
 "nbformat_minor": 2
}
