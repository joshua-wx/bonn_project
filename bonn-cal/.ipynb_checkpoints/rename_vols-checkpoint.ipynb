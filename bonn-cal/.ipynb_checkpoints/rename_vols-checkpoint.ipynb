{
 "cells": [
  {
   "cell_type": "code",
   "execution_count": 10,
   "metadata": {},
   "outputs": [],
   "source": [
    "import glob\n",
    "import os\n",
    "from datetime import datetime"
   ]
  },
  {
   "cell_type": "code",
   "execution_count": 18,
   "metadata": {},
   "outputs": [],
   "source": [
    "out_path = '/home/meso/Desktop/bonn-cal-data/renamed'\n",
    "ffn_list = glob.glob('/home/meso/Desktop/bonn-cal-data/boxpol/*.h5')\n",
    "\n",
    "for ffn in ffn_list:\n",
    "    filename = os.path.basename(ffn)\n",
    "    file_date = datetime.strptime(filename[14:-3],'%Y-%m-%dT%H:%M:%SZ')\n",
    "    new_filename = 'BOXPOL_' + file_date.strftime('%Y%m%d_%H%M%S') + '_VOL.h5'\n",
    "    new_ffn = out_path + '/' + new_filename\n",
    "    os.system('cp ' + ffn + ' ' + new_ffn)    \n",
    "    \n",
    "print('finished')"
   ]
  },
  {
   "cell_type": "code",
   "execution_count": null,
   "metadata": {},
   "outputs": [],
   "source": []
  }
 ],
 "metadata": {
  "kernelspec": {
   "display_name": "Python 3",
   "language": "python",
   "name": "python3"
  },
  "language_info": {
   "codemirror_mode": {
    "name": "ipython",
    "version": 3
   },
   "file_extension": ".py",
   "mimetype": "text/x-python",
   "name": "python",
   "nbconvert_exporter": "python",
   "pygments_lexer": "ipython3",
   "version": "3.6.4"
  }
 },
 "nbformat": 4,
 "nbformat_minor": 2
}
