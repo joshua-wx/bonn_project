{
 "cells": [
  {
   "cell_type": "code",
   "execution_count": 6,
   "metadata": {},
   "outputs": [],
   "source": [
    "import os\n",
    "import glob\n",
    "import netCDF4\n",
    "import numpy as np\n",
    "from datetime import datetime as dt\n",
    "import matplotlib.pyplot as plt\n"
   ]
  },
  {
   "cell_type": "code",
   "execution_count": 7,
   "metadata": {},
   "outputs": [],
   "source": [
    "input_path  = '/g/data/kl02/jss548/bonn-project-data/radolan_nc'\n",
    "output_path = '/g/data/kl02/jss548/bonn-project-data/radolan_png_3time'\n",
    "bad         = np.nan\n",
    "min_refl    = -32.5\n",
    "max_refl    = 80\n",
    "x_start     = 146 #values in x dim less this this aren't present"
   ]
  },
  {
   "cell_type": "code",
   "execution_count": 8,
   "metadata": {},
   "outputs": [],
   "source": [
    "def write_img(img_array, time_dt):\n",
    "    #make path as needed\n",
    "    image_path = '/'.join([output_path, time_dt.strftime('%Y%m%d')])\n",
    "    if not os.path.isdir(image_path):\n",
    "        os.mkdir(image_path)\n",
    "    #build image ffn\n",
    "    image_fn = 'radolan_' + time_dt.strftime('%Y%m%d_%H%M') + '.png'\n",
    "    image_ffn = '/'.join([image_path, image_fn])\n",
    "    #offset array using min_value\n",
    "    img_array = img_array + np.abs(min_refl)\n",
    "    #scale by abs maximum\n",
    "    abs_max = max_refl + np.abs(min_refl)\n",
    "    img_array = (img_array/abs_max)\n",
    "    \n",
    "    \n",
    "    #export to file\n",
    "    plt.imsave(image_ffn, img_array)\n",
    "    count = 0\n",
    "    new_run = True"
   ]
  },
  {
   "cell_type": "code",
   "execution_count": 9,
   "metadata": {},
   "outputs": [
    {
     "name": "stdout",
     "output_type": "stream",
     "text": [
      "completed: /g/data/kl02/jss548/bonn-project-data/radolan_nc/RX-2017-05-07.nc\n",
      "completed: /g/data/kl02/jss548/bonn-project-data/radolan_nc/RX-2014-06-11.nc\n",
      "completed: /g/data/kl02/jss548/bonn-project-data/radolan_nc/RX-2015-04-27.nc\n",
      "completed: /g/data/kl02/jss548/bonn-project-data/radolan_nc/RX-2017-05-15.nc\n",
      "completed: /g/data/kl02/jss548/bonn-project-data/radolan_nc/RX-2016-06-24.nc\n",
      "completed: /g/data/kl02/jss548/bonn-project-data/radolan_nc/RX-2013-08-06.nc\n",
      "completed: /g/data/kl02/jss548/bonn-project-data/radolan_nc/RX-2017-05-28.nc\n",
      "completed: /g/data/kl02/jss548/bonn-project-data/radolan_nc/RX-2017-05-12.nc\n",
      "completed: /g/data/kl02/jss548/bonn-project-data/radolan_nc/RX-2017-05-19.nc\n",
      "completed: /g/data/kl02/jss548/bonn-project-data/radolan_nc/RX-2017-05-04.nc\n",
      "completed: /g/data/kl02/jss548/bonn-project-data/radolan_nc/RX-2015-07-05.nc\n",
      "completed: /g/data/kl02/jss548/bonn-project-data/radolan_nc/RX-2017-05-13.nc\n",
      "completed: /g/data/kl02/jss548/bonn-project-data/radolan_nc/RX-2017-05-18.nc\n",
      "completed: /g/data/kl02/jss548/bonn-project-data/radolan_nc/RX-2017-05-30.nc\n"
     ]
    }
   ],
   "source": [
    "#list files\n",
    "file_list = glob.glob(input_path + '/*.nc')\n",
    "for nc_file in file_list:\n",
    "    #read nc file\n",
    "    with netCDF4.Dataset(nc_file) as ncid:\n",
    "        refl_data = np.squeeze(ncid['rx'][:, :, :]).filled(min_refl)\n",
    "        time_list = np.squeeze(ncid['time'][:])\n",
    "        time_units = ncid.variables['time'].units\n",
    "    #export to png\n",
    "    for i, time in enumerate(time_list):\n",
    "\n",
    "        #extract refl data\n",
    "        refl_img = refl_data[i, :, :]\n",
    "        #crop to valid data\n",
    "        refl_img_crop = refl_img[:, x_start:]\n",
    "\n",
    "        #stack data\n",
    "        if i==0:\n",
    "            #init step1\n",
    "            step1_img = refl_img\n",
    "        elif i==1:\n",
    "            #init step2\n",
    "            step2_img = refl_img\n",
    "        else:\n",
    "            step3_img  = refl_img\n",
    "            #stack steps\n",
    "            refl_array = np.stack([step3_img, step2_img, step1_img], 2)\n",
    "            #write to image file\n",
    "            time_dt    = netCDF4.num2date(time, time_units)\n",
    "            write_img(refl_array, time_dt)\n",
    "            #update step1 and step2\n",
    "            step2_img  = step3_img\n",
    "            step1_img  = step2_img\n",
    "    #compress folder\n",
    "    image_path = '/'.join([output_path, time_dt.strftime('%Y%m%d')])\n",
    "    cmd = ' '.join(['zip -j0r', image_path + '.zip', image_path])\n",
    "    os.system(cmd)\n",
    "    #update user\n",
    "    print('completed:', nc_file)\n",
    "    \n",
    "    "
   ]
  },
  {
   "cell_type": "code",
   "execution_count": 10,
   "metadata": {},
   "outputs": [],
   "source": []
  }
 ],
 "metadata": {
  "kernelspec": {
   "display_name": "Python 3",
   "language": "python",
   "name": "python3"
  },
  "language_info": {
   "codemirror_mode": {
    "name": "ipython",
    "version": 3
   },
   "file_extension": ".py",
   "mimetype": "text/x-python",
   "name": "python",
   "nbconvert_exporter": "python",
   "pygments_lexer": "ipython3",
   "version": "3.6.7"
  }
 },
 "nbformat": 4,
 "nbformat_minor": 2
}
