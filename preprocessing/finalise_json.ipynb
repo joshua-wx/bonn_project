{
 "cells": [
  {
   "cell_type": "code",
   "execution_count": 14,
   "metadata": {},
   "outputs": [],
   "source": [
    "#processes seperate json files from boundary identification into a a single training and a single validation json files.\n",
    "#Also seperates images which have valid json regions"
   ]
  },
  {
   "cell_type": "code",
   "execution_count": 3,
   "metadata": {},
   "outputs": [],
   "source": [
    "import json\n",
    "import os\n",
    "import glob\n",
    "import numpy as np\n",
    "import random"
   ]
  },
  {
   "cell_type": "code",
   "execution_count": 4,
   "metadata": {},
   "outputs": [],
   "source": [
    "in_path  = '/g/data1a/kl02/jss548/bonn-project-data/training/seperate'\n",
    "out_path = '/g/data1a/kl02/jss548/bonn-project-data/training/final'\n"
   ]
  },
  {
   "cell_type": "code",
   "execution_count": 7,
   "metadata": {},
   "outputs": [],
   "source": [
    "def process_seperate_json_files(json_ffn_list, prefix_path, final_json_fn):\n",
    "    \n",
    "    master_json = {}\n",
    "    for json_ffn in json_ffn_list:\n",
    "        #read json file \n",
    "        with open(json_ffn) as json_fh:  \n",
    "            data = json.load(json_fh)\n",
    "        #iterate through files\n",
    "        for json_header in iter(data):\n",
    "            #skip images with no regions\n",
    "            if data[json_header]['regions'] == []:\n",
    "                continue\n",
    "            #add to master\n",
    "            master_json[json_header] = data[json_header]\n",
    "            #extract img filename\n",
    "            img_fn = data[json_header]['filename']\n",
    "            img_folder = img_fn.split('_')[1]\n",
    "            img_source_ffn = '/'.join([in_path,img_folder,img_fn])\n",
    "            img_dest_ffn   = '/'.join([out_path,prefix_path,img_fn])\n",
    "            #copy image file\n",
    "            cmd = 'cp ' + img_source_ffn + ' ' + img_dest_ffn\n",
    "            os.system(cmd)\n",
    "    final_json_ffn = '/'.join([out_path, prefix_path, final_json_fn])      \n",
    "    with open(final_json_ffn, 'w') as outfile:\n",
    "        json.dump(master_json, outfile)\n",
    "    "
   ]
  },
  {
   "cell_type": "code",
   "execution_count": null,
   "metadata": {},
   "outputs": [],
   "source": [
    "#read json file list\n",
    "json_ffn_list = glob.glob(in_path + '/*.json')\n",
    "#shuffle list\n",
    "random.shuffle(json_ffn_list)\n",
    "\n",
    "#xtract training data\n",
    "val_list     = json_ffn_list[0:2]\n",
    "train_list   = json_ffn_list[3:]\n",
    "\n",
    "#save json back to file\n",
    "final_json_fn  = 'via_region_data.json'\n",
    "process_seperate_json_files(train_list, 'train', final_json_fn)\n",
    "    \n",
    "#save json back to file\n",
    "final_json_fn  = 'via_region_data.json'\n",
    "process_seperate_json_files(val_list, 'val', final_json_fn)\n",
    "\n",
    "print('finished')"
   ]
  },
  {
   "cell_type": "code",
   "execution_count": null,
   "metadata": {},
   "outputs": [],
   "source": []
  },
  {
   "cell_type": "code",
   "execution_count": null,
   "metadata": {},
   "outputs": [],
   "source": []
  }
 ],
 "metadata": {
  "kernelspec": {
   "display_name": "Python 3",
   "language": "python",
   "name": "python3"
  },
  "language_info": {
   "codemirror_mode": {
    "name": "ipython",
    "version": 3
   },
   "file_extension": ".py",
   "mimetype": "text/x-python",
   "name": "python",
   "nbconvert_exporter": "python",
   "pygments_lexer": "ipython3",
   "version": "3.6.7"
  }
 },
 "nbformat": 4,
 "nbformat_minor": 2
}
