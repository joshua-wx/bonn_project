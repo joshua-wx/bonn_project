{
 "cells": [
  {
   "cell_type": "code",
   "execution_count": 79,
   "metadata": {},
   "outputs": [],
   "source": [
    "import numpy as np\n",
    "from scipy import ndimage\n",
    "\n",
    "circular_remap3 = [0,1,2,4,7,6,5,3]\n",
    "circular_remap5 = [0,1,2,3,4,6,8,10,15,14,13,12,11,9,7,5]\n",
    "\n",
    "#im = np.random.randint(0, 2, size=(9,9))\n",
    "im = np.array([[1,2,3],\n",
    "               [4,5,6],\n",
    "               [7,8,9]])\n",
    "\n",
    "window = np.array([[1,1,1],\n",
    "                   [1,0,1],\n",
    "                   [1,1,1]])"
   ]
  },
  {
   "cell_type": "code",
   "execution_count": 82,
   "metadata": {},
   "outputs": [],
   "source": [
    "def lbp_filter(x):\n",
    "    \"\"\"\n",
    "    Local Binary Pattern Filter\n",
    "    Counts number of changes from 0 to 1 in x\n",
    "    \"\"\"\n",
    "    #remap to circular array\n",
    "    if len(x) == 8:\n",
    "        x = x[circular_remap3]\n",
    "    elif len(x)==16:\n",
    "        x = x[circular_remap5]\n",
    "    #wrap array\n",
    "    wrap_x     = np.empty((len(x)+1))\n",
    "    wrap_x[0]  = x[-1]\n",
    "    wrap_x[1:] = x\n",
    "    \n",
    "    print(x)\n",
    "    print(wrap_x)\n",
    "    \n",
    "    #use abs of diff to find changes\n",
    "    change_x = np.abs(wrap_x[1:] - wrap_x[:-1])\n",
    "    #sum changes\n",
    "    change_count = np.sum(change_x)\n",
    "    return change_count"
   ]
  },
  {
   "cell_type": "code",
   "execution_count": 83,
   "metadata": {},
   "outputs": [
    {
     "name": "stdout",
     "output_type": "stream",
     "text": [
      "[[1 2 3]\n",
      " [4 5 6]\n",
      " [7 8 9]]\n",
      "[0. 0. 0. 2. 5. 4. 0. 0.]\n",
      "[0. 0. 0. 0. 2. 5. 4. 0. 0.]\n",
      "[0. 0. 0. 3. 6. 5. 4. 1.]\n",
      "[1. 0. 0. 0. 3. 6. 5. 4. 1.]\n",
      "[0. 0. 0. 0. 0. 6. 5. 2.]\n",
      "[2. 0. 0. 0. 0. 0. 6. 5. 2.]\n",
      "[0. 1. 2. 5. 8. 7. 0. 0.]\n",
      "[0. 0. 1. 2. 5. 8. 7. 0. 0.]\n",
      "[1. 2. 3. 6. 9. 8. 7. 4.]\n",
      "[4. 1. 2. 3. 6. 9. 8. 7. 4.]\n",
      "[2. 3. 0. 0. 0. 9. 8. 5.]\n",
      "[5. 2. 3. 0. 0. 0. 9. 8. 5.]\n",
      "[0. 4. 5. 8. 0. 0. 0. 0.]\n",
      "[0. 0. 4. 5. 8. 0. 0. 0. 0.]\n",
      "[4. 5. 6. 9. 0. 0. 0. 7.]\n",
      "[7. 4. 5. 6. 9. 0. 0. 0. 7.]\n",
      "[5. 6. 0. 0. 0. 0. 0. 8.]\n",
      "[8. 5. 6. 0. 0. 0. 0. 0. 8.]\n",
      "[[10 12 12]\n",
      " [16 16 20]\n",
      " [16 24 18]]\n"
     ]
    }
   ],
   "source": [
    "print(im)\n",
    "res = ndimage.generic_filter(im, lbp_filter, footprint=window, mode='constant', cval=0)\n",
    "\n",
    "print(res)"
   ]
  },
  {
   "cell_type": "code",
   "execution_count": null,
   "metadata": {},
   "outputs": [],
   "source": []
  }
 ],
 "metadata": {
  "kernelspec": {
   "display_name": "radar-vision",
   "language": "python",
   "name": "radar-vision"
  },
  "language_info": {
   "codemirror_mode": {
    "name": "ipython",
    "version": 3
   },
   "file_extension": ".py",
   "mimetype": "text/x-python",
   "name": "python",
   "nbconvert_exporter": "python",
   "pygments_lexer": "ipython3",
   "version": "3.7.3"
  }
 },
 "nbformat": 4,
 "nbformat_minor": 4
}
