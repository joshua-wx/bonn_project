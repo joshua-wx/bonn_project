{
 "cells": [
  {
   "cell_type": "code",
   "execution_count": null,
   "metadata": {},
   "outputs": [],
   "source": [
    "def filter_reference(i):\n",
    "    min_refl   = 0.\n",
    "    max_refl   = 30.\n",
    "    \n",
    "    #extract refl data\n",
    "    refl_img_full = refl_data[i+200, :,:]\n",
    "\n",
    "    #crop to valid data\n",
    "    refl_img_crop = refl_img_full[:, x_start:] \n",
    "\n",
    "    #discreise reflectivity\n",
    "    refl_img_int = refl_to_int(refl_img_crop)\n",
    "\n",
    "    #valid reflectivity mask\n",
    "    valid_refl_mask = np.logical_and(refl_img_int>=min_refl, refl_img_int<=max_refl)\n",
    "\n",
    "    #g1 and g2 convolution filers filter\n",
    "    conv_g1    = ndimage.uniform_filter(refl_img_int, size=g1_size, mode='constant', cval=pad_value)\n",
    "    conv_g2    = ndimage.uniform_filter(refl_img_int, size=g2_size, mode='constant', cval=pad_value)\n",
    "\n",
    "    #foreground mask\n",
    "    inital_mask = np.logical_and(refl_img_int >= conv_g1, refl_img_int > conv_g2)\n",
    "    ridges_mask = np.logical_and(inital_mask, valid_refl_mask)\n",
    "    \n",
    "    \n",
    "    #smooth ridge edges to remove burrs using dilation using a 3x3 filter\n",
    "    dilation_filter = np.array([[0,1,0],[1,1,1],[0,1,0]], np.uint8)\n",
    "    ridges_mask_smooth = morphology.binary_dilation(ridges_mask, dilation_filter)\n",
    "\n",
    "    #create narrow bands\n",
    "    skeleton = morphology.thin(ridges_mask_smooth)\n",
    "    \n",
    "    #plotting\n",
    "    plt.clf()\n",
    "    fig = plt.figure(facecolor='white', figsize=(30, 15))\n",
    "\n",
    "    ax0 = plt.subplot(1,2,1)\n",
    "\n",
    "    im0 = ax0.imshow(refl_img_crop.astype('float'))\n",
    "    [line_i, line_j] = np.where(skeleton)\n",
    "    ax0.plot(line_j, line_i, 'w.', markersize=makersize)\n",
    "    ax0.set_title('Reflectivity')\n",
    "    fig.colorbar(im0, ax=ax0)\n",
    "    \n",
    "    if zoom:\n",
    "        ax0.set_ylim(zoom_y)\n",
    "        ax0.set_xlim(zoom_x)\n",
    "        \n",
    "    ax1 = plt.subplot(1,2,2)\n",
    "    im1 = ax1.imshow(refl_img_crop.astype('float'))\n",
    "    \n",
    "    if zoom:\n",
    "        ax1.set_ylim(zoom_y)\n",
    "        ax1.set_xlim(zoom_x)"
   ]
  }
 ],
 "metadata": {
  "kernelspec": {
   "display_name": "radar-dev",
   "language": "python",
   "name": "radar-dev"
  },
  "language_info": {
   "codemirror_mode": {
    "name": "ipython",
    "version": 3
   },
   "file_extension": ".py",
   "mimetype": "text/x-python",
   "name": "python",
   "nbconvert_exporter": "python",
   "pygments_lexer": "ipython3",
   "version": "3.7.3"
  }
 },
 "nbformat": 4,
 "nbformat_minor": 4
}
