{
 "cells": [
  {
   "cell_type": "code",
   "execution_count": 10,
   "metadata": {},
   "outputs": [],
   "source": [
    "import numpy as np\n",
    "from matplotlib import pyplot as plt\n",
    "\n",
    "def vector_pair_angle(x_list, y_list, step_size):\n",
    "    \"\"\"\n",
    "    Returns the angles between list of i and j coordinates.\n",
    "\n",
    "    based off https://stackoverflow.com/questions/14631776/calculate-turning-points-pivot-points-in-trajectory-path\n",
    "\n",
    "    Parameters:\n",
    "    dir is a 2D-array of shape (N,M) representing N vectors in M-dimensional space.\n",
    "\n",
    "    The return value is a 1D-array of values of shape (N-1,), with each value\n",
    "    between 0 and pi.\n",
    "\n",
    "    0 implies the vectors point in the same direction\n",
    "    pi/2 implies the vectors are orthogonal\n",
    "    pi implies the vectors point in opposite directions\n",
    "    \"\"\"\n",
    "    \n",
    "    vec_start = []\n",
    "    vec_end = []\n",
    "    \n",
    "    centre_x_list = x_list[step_size:-step_size]\n",
    "    start_x_list  = x_list[step_size*2:]\n",
    "    end_x_list    = x_list[:-step_size*2]\n",
    "    \n",
    "    centre_y_list = y_list[step_size:-step_size]    \n",
    "    start_y_list    = y_list[step_size*2:]    \n",
    "    end_y_list  = y_list[:-step_size*2]\n",
    "    \n",
    "    for i,_ in enumerate(centre_x_list):\n",
    "        vec_start.append([centre_x_list[i] - start_x_list[i], centre_y_list[i] - start_y_list[i]])\n",
    "        vec_end.append([end_x_list[i] - centre_x_list[i], end_y_list[i] - centre_y_list[i]])\n",
    "    \n",
    "    dir2 = np.array(vec_start)\n",
    "    dir1 = np.array(vec_end)\n",
    "    \n",
    "    angle_calc = np.arccos((dir1*dir2).sum(axis=1)/(\n",
    "        np.sqrt((dir1**2).sum(axis=1)*(dir2**2).sum(axis=1))))\n",
    "    \n",
    "    #angle_out = np.zeros_like(x_list)\n",
    "    #angle_out[step_size:-step_size] = angle_calc\n",
    "    \n",
    "    return 180 - np.degrees(angle_calc)"
   ]
  },
  {
   "cell_type": "code",
   "execution_count": 24,
   "metadata": {},
   "outputs": [
    {
     "name": "stdout",
     "output_type": "stream",
     "text": [
      "19\n",
      "15\n",
      "[180.         153.43494882 135.         161.56505118 108.43494882\n",
      "  90.         180.         180.         153.43494882  90.\n",
      " 135.         135.         108.43494882 180.         153.43494882]\n"
     ]
    },
    {
     "data": {
      "text/plain": [
       "[<matplotlib.lines.Line2D at 0x7fcbad39fdd8>]"
      ]
     },
     "execution_count": 24,
     "metadata": {},
     "output_type": "execute_result"
    },
    {
     "data": {
      "image/png": "[encoded data removed]",
      "text/plain": [
       "<Figure size 432x288 with 1 Axes>"
      ]
     },
     "metadata": {
      "needs_background": "light"
     },
     "output_type": "display_data"
    }
   ],
   "source": [
    "x_list = np.array([1,2,3,3,4,5,5,5,5,6,7,8,9,10,9,8,7])\n",
    "y_list = np.array([1,2,2,1,1,1,2,3,4,5,4,3,4,5,6,7,8])\n",
    "\n",
    "\n",
    "x_list = np.array([-3,-2,-1,0,1,2,3,4,5,6,7,8,9,10,11,12,13,14,15])\n",
    "y_list = np.array([1,1,1,1,1,2,3,4,2,2,1,0,1,2,3,2,2,2,2])\n",
    "\n",
    "step = 2\n",
    "out_deg = vector_pair_angle(x_list, y_list, step)\n",
    "\n",
    "print(len(x_list))\n",
    "print(len(out_deg))\n",
    "print(out_deg)\n",
    "\n",
    "turning_idx = np.where(out_deg<135)[0] + step\n",
    "\n",
    "\n",
    "plt.gca().set_aspect('equal', adjustable='box')\n",
    "\n",
    "plt.plot(x_list, y_list)\n",
    "plt.plot(x_list[turning_idx], y_list[turning_idx], 'ko')\n",
    "\n"
   ]
  },
  {
   "cell_type": "code",
   "execution_count": 77,
   "metadata": {},
   "outputs": [
    {
     "name": "stdout",
     "output_type": "stream",
     "text": [
      "[3, 4]\n",
      "[1, 2]\n"
     ]
    }
   ],
   "source": [
    "x=[1,2,3,4]\n",
    "print(x[2:])\n",
    "print(x[:-2])"
   ]
  },
  {
   "cell_type": "code",
   "execution_count": null,
   "metadata": {},
   "outputs": [],
   "source": []
  }
 ],
 "metadata": {
  "kernelspec": {
   "display_name": "radar-vision",
   "language": "python",
   "name": "radar-vision"
  },
  "language_info": {
   "codemirror_mode": {
    "name": "ipython",
    "version": 3
   },
   "file_extension": ".py",
   "mimetype": "text/x-python",
   "name": "python",
   "nbconvert_exporter": "python",
   "pygments_lexer": "ipython3",
   "version": "3.7.3"
  }
 },
 "nbformat": 4,
 "nbformat_minor": 4
}
